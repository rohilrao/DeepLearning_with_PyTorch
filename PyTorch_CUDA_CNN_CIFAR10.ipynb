{
  "nbformat": 4,
  "nbformat_minor": 0,
  "metadata": {
    "colab": {
      "name": "CUDA_Sheet2_Ruben_Rohil.ipynb",
      "provenance": [],
      "collapsed_sections": []
    },
    "kernelspec": {
      "name": "python3",
      "display_name": "Python 3"
    },
    "accelerator": "GPU"
  },
  "cells": [
    {
      "cell_type": "code",
      "metadata": {
        "id": "KRVa9_4yKuCP"
      },
      "source": [
        "import torch\n",
        "import torch.nn as nn\n",
        "import torchvision.transforms as transforms\n",
        "import torchvision.datasets as dsets\n",
        "import random as rand\n",
        "%matplotlib inline\n",
        "import matplotlib.pyplot as plt \n"
      ],
      "execution_count": 1,
      "outputs": []
    },
    {
      "cell_type": "code",
      "metadata": {
        "colab": {
          "base_uri": "https://localhost:8080/"
        },
        "id": "JxRwUKQ7yZKd",
        "outputId": "4d05a319-aafa-4ecd-854b-2709a82581e7"
      },
      "source": [
        "if torch.cuda.is_available():\n",
        "    avDev = torch.device(\"cuda\")\n",
        "else:\n",
        "    avDev = torch.device(\"cpu\")\n",
        "\n",
        "print(avDev)"
      ],
      "execution_count": null,
      "outputs": [
        {
          "output_type": "stream",
          "text": [
            "cuda\n"
          ],
          "name": "stdout"
        }
      ]
    },
    {
      "cell_type": "code",
      "metadata": {
        "id": "KBbz5RkvKt9z",
        "colab": {
          "base_uri": "https://localhost:8080/"
        },
        "outputId": "a366e3e3-9ca0-40b3-a6ad-e64bfc38f407"
      },
      "source": [
        "# LOADING DATASET\n",
        "\n",
        "trainset = dsets.CIFAR10('./data', train=True, download=True, transform=transforms.ToTensor())\n",
        "testset = dsets.CIFAR10('./data', train=False, download=True, transform=transforms.ToTensor())"
      ],
      "execution_count": null,
      "outputs": [
        {
          "output_type": "stream",
          "text": [
            "Files already downloaded and verified\n",
            "Files already downloaded and verified\n"
          ],
          "name": "stdout"
        }
      ]
    },
    {
      "cell_type": "code",
      "metadata": {
        "id": "lbXSyHEUSXZb"
      },
      "source": [
        "# LOAD DATA, SET BATCH SIZE, AND NUMBER OF EPOCHS"
      ],
      "execution_count": null,
      "outputs": []
    },
    {
      "cell_type": "code",
      "metadata": {
        "id": "8h2WODo-xlxG"
      },
      "source": [
        "batch_size = 100\n",
        "i = 50000\n",
        "num_epochs = i / (len(trainset) / batch_size)\n",
        "num_epochs = int(num_epochs)\n",
        " \n",
        "train_loader = torch.utils.data.DataLoader(dataset=trainset, \n",
        "                                           batch_size=batch_size, \n",
        "                                           shuffle=True)\n",
        " \n",
        "test_loader = torch.utils.data.DataLoader(dataset=testset, \n",
        "                                          batch_size=batch_size, \n",
        "                                          shuffle=False)"
      ],
      "execution_count": null,
      "outputs": []
    },
    {
      "cell_type": "code",
      "metadata": {
        "id": "6QmWYIinDOl5"
      },
      "source": [
        "# PLOT ONE EXAMPLE IMAGE"
      ],
      "execution_count": null,
      "outputs": []
    },
    {
      "cell_type": "code",
      "metadata": {
        "colab": {
          "base_uri": "https://localhost:8080/"
        },
        "id": "1xJwgEi0-B5G",
        "outputId": "181ad237-4657-4213-baec-603683b9fd3d"
      },
      "source": [
        "it = iter(train_loader)\n",
        "samples,labels = it.next()\n",
        "print(samples.shape,labels.shape)"
      ],
      "execution_count": null,
      "outputs": [
        {
          "output_type": "stream",
          "text": [
            "torch.Size([100, 3, 32, 32]) torch.Size([100])\n"
          ],
          "name": "stdout"
        }
      ]
    },
    {
      "cell_type": "code",
      "metadata": {
        "colab": {
          "base_uri": "https://localhost:8080/",
          "height": 283
        },
        "id": "8JEf71bf-9U0",
        "outputId": "f92aa3df-2db5-4707-a238-e0cbe135fc5c"
      },
      "source": [
        "img = samples[45][0]\n",
        "_to_pil = transforms.ToPILImage()\n",
        "plt.imshow(_to_pil(img))"
      ],
      "execution_count": null,
      "outputs": [
        {
          "output_type": "execute_result",
          "data": {
            "text/plain": [
              "<matplotlib.image.AxesImage at 0x7f69f5bb7ac8>"
            ]
          },
          "metadata": {
            "tags": []
          },
          "execution_count": 189
        },
        {
          "output_type": "display_data",
          "data": {
            "image/png": "[encoded data removed]",
            "text/plain": [
              "<Figure size 432x288 with 1 Axes>"
            ]
          },
          "metadata": {
            "tags": [],
            "needs_background": "light"
          }
        }
      ]
    },
    {
      "cell_type": "code",
      "metadata": {
        "id": "D1RkGhrxxlzQ"
      },
      "source": [
        "# DEFINE MODEL AND FORWARD PROPAGATION\n",
        "\n",
        "class LogisticRegressionModel(nn.Module):\n",
        "    def __init__(self, input_dim, output_dim):\n",
        "        super(LogisticRegressionModel, self).__init__()\n",
        "        self.linear1 = nn.Linear(input_dim, 512)\n",
        "        self.linear2 = nn.Linear(512, 128)\n",
        "        self.linear3 = nn.Linear(128, output_dim)\n",
        "        self.relu = nn.ReLU()\n",
        "     \n",
        "    def forward(self, x):\n",
        "        out = self.relu(self.linear1(x))\n",
        "        out = self.relu(self.linear2(out))\n",
        "        out = self.linear3(out)\n",
        "        return out"
      ],
      "execution_count": null,
      "outputs": []
    },
    {
      "cell_type": "code",
      "metadata": {
        "id": "6so2_bMsxl1i"
      },
      "source": [
        "input_dim = 3*32*32\n",
        "output_dim = 10\n",
        " \n",
        "model = LogisticRegressionModel(input_dim, output_dim)"
      ],
      "execution_count": null,
      "outputs": []
    },
    {
      "cell_type": "code",
      "metadata": {
        "colab": {
          "base_uri": "https://localhost:8080/"
        },
        "id": "G-cc3geuxl3l",
        "outputId": "35e09c63-d6a0-45c2-efe0-e2d2d1f5990d"
      },
      "source": [
        "model.to(avDev)"
      ],
      "execution_count": null,
      "outputs": [
        {
          "output_type": "execute_result",
          "data": {
            "text/plain": [
              "LogisticRegressionModel(\n",
              "  (linear1): Linear(in_features=3072, out_features=512, bias=True)\n",
              "  (linear2): Linear(in_features=512, out_features=128, bias=True)\n",
              "  (linear3): Linear(in_features=128, out_features=10, bias=True)\n",
              "  (relu): ReLU()\n",
              ")"
            ]
          },
          "metadata": {
            "tags": []
          },
          "execution_count": 192
        }
      ]
    },
    {
      "cell_type": "code",
      "metadata": {
        "id": "MYzhugw7xl55"
      },
      "source": [
        "criterion = nn.CrossEntropyLoss().to(avDev)"
      ],
      "execution_count": null,
      "outputs": []
    },
    {
      "cell_type": "code",
      "metadata": {
        "id": "r_fmjLSlxl71"
      },
      "source": [
        "learning_rate = 0.01\n",
        " \n",
        "optimizer = torch.optim.SGD(model.parameters(), lr=learning_rate, weight_decay = 1e-5)\n"
      ],
      "execution_count": null,
      "outputs": []
    },
    {
      "cell_type": "code",
      "metadata": {
        "colab": {
          "base_uri": "https://localhost:8080/"
        },
        "id": "aAysHaAdxl9-",
        "outputId": "e7eb295c-b266-4b05-e846-05ca4820b50b"
      },
      "source": [
        "# TRAINING AND CHECKING ACCURACY ON TEST\n",
        "\n",
        "historyLoss = []\n",
        "historyEpoch = []\n",
        "gradientNorm = []\n",
        "\n",
        "iter = 0\n",
        "for epoch in range(num_epochs):\n",
        "  \n",
        "    for i, (images, labels) in enumerate(train_loader):\n",
        "         \n",
        "        #print(images.size()) #torch.Size([100, 1, 28, 28])\n",
        "        #print(images.view(-1, 28*28).size()) #torch.Size([100, 784])\n",
        "        images = images.view(-1, 32*32*3).to(avDev)\n",
        "        labels = labels.to(avDev)\n",
        "         \n",
        "        # Clear gradients w.r.t. parameters\n",
        "        optimizer.zero_grad()\n",
        "         \n",
        "        # Forward pass to get output/logits\n",
        "        outputs = model(images)\n",
        "         \n",
        "        # Calculate Loss: softmax --> cross entropy loss\n",
        "        loss = criterion(outputs, labels)#\n",
        "         \n",
        "        # Getting gradients w.r.t. parameters\n",
        "        loss.backward()\n",
        "\n",
        "        # Gradient norm for all learnable parameters\n",
        "        total_norm = 0\n",
        "        for p in model.parameters():\n",
        "          if p.grad is not None:\n",
        "            param_norm = p.grad.data.norm(2)\n",
        "            total_norm += param_norm.item() ** 2\n",
        "        total_norm = total_norm ** (1. / 2)\n",
        "\n",
        "\n",
        "        #for p in list(filter(lambda p: p.grad is not None, model.parameters())):\n",
        "        #  print(p.grad.data.norm(2).item())\n",
        "         \n",
        "        # Updating parameters\n",
        "        optimizer.step()\n",
        "         \n",
        "        iter += 1\n",
        "         \n",
        "        if iter % 500 == 0:\n",
        "            # Calculate Accuracy         \n",
        "            correct = 0\n",
        "            total = 0\n",
        "            # Iterate through test dataset\n",
        "            for images, labels in test_loader:\n",
        "                #######################\n",
        "                #  USE GPU FOR MODEL  #\n",
        "                #######################\n",
        "                images = images.view(-1, 32*32*3).to(avDev)\n",
        "                 \n",
        "                # Forward pass only to get logits/output\n",
        "                outputs = model(images)\n",
        "                 \n",
        "                # Get predictions from the maximum value\n",
        "                _, predicted = torch.max(outputs.data, 1)\n",
        "                 \n",
        "                # Total number of labels\n",
        "                total += labels.size(0)\n",
        "                 \n",
        "                #######################\n",
        "                #  USE GPU FOR MODEL  #\n",
        "                #######################\n",
        "                # Total correct predictions\n",
        "                correct += (predicted.cpu() == labels.cpu()).sum().float()\n",
        "\n",
        "                \n",
        "             \n",
        "            accuracy = 100. * correct / total\n",
        "             \n",
        "            # Print Loss\n",
        "            print('Iteration: {}. Loss: {}. Accuracy: {}'.format(iter, loss.item(), accuracy))\n",
        "\n",
        "            print('Iteration: {}. Gradient Norm: {}'.format(iter, total_norm))\n",
        "\n",
        "            historyEpoch.append(epoch)\n",
        "            gradientNorm.append(total_norm)\n",
        "            historyLoss.append(loss.item())\n",
        "  "
      ],
      "execution_count": null,
      "outputs": [
        {
          "output_type": "stream",
          "text": [
            "Iteration: 500. Loss: 2.0645222663879395. Accuracy: 27.889999389648438\n",
            "Iteration: 500. Gradient Norm: 0.9984731084137075\n",
            "Iteration: 1000. Loss: 1.9964683055877686. Accuracy: 32.369998931884766\n",
            "Iteration: 1000. Gradient Norm: 1.7360462251890891\n",
            "Iteration: 1500. Loss: 2.071830987930298. Accuracy: 33.470001220703125\n",
            "Iteration: 1500. Gradient Norm: 2.582925346469592\n",
            "Iteration: 2000. Loss: 1.7695322036743164. Accuracy: 35.560001373291016\n",
            "Iteration: 2000. Gradient Norm: 1.4092297556418136\n",
            "Iteration: 2500. Loss: 1.8005356788635254. Accuracy: 37.81999969482422\n",
            "Iteration: 2500. Gradient Norm: 1.5479670579241473\n",
            "Iteration: 3000. Loss: 1.726341962814331. Accuracy: 38.06999969482422\n",
            "Iteration: 3000. Gradient Norm: 3.7408291338947643\n",
            "Iteration: 3500. Loss: 1.6799885034561157. Accuracy: 40.15999984741211\n",
            "Iteration: 3500. Gradient Norm: 1.4547637463466276\n",
            "Iteration: 4000. Loss: 1.6050611734390259. Accuracy: 40.880001068115234\n",
            "Iteration: 4000. Gradient Norm: 2.5667020260085383\n",
            "Iteration: 4500. Loss: 1.8127926588058472. Accuracy: 41.90999984741211\n",
            "Iteration: 4500. Gradient Norm: 3.0375774920625416\n",
            "Iteration: 5000. Loss: 1.733580470085144. Accuracy: 42.369998931884766\n",
            "Iteration: 5000. Gradient Norm: 3.2848524781519393\n",
            "Iteration: 5500. Loss: 1.7485285997390747. Accuracy: 42.59000015258789\n",
            "Iteration: 5500. Gradient Norm: 2.888312412144574\n",
            "Iteration: 6000. Loss: 1.4712547063827515. Accuracy: 44.849998474121094\n",
            "Iteration: 6000. Gradient Norm: 2.940060594440148\n",
            "Iteration: 6500. Loss: 1.5860605239868164. Accuracy: 43.97999954223633\n",
            "Iteration: 6500. Gradient Norm: 4.644046726380714\n",
            "Iteration: 7000. Loss: 1.4034597873687744. Accuracy: 45.20000076293945\n",
            "Iteration: 7000. Gradient Norm: 2.7756053857036886\n",
            "Iteration: 7500. Loss: 1.5183136463165283. Accuracy: 46.0\n",
            "Iteration: 7500. Gradient Norm: 3.2553229242382926\n",
            "Iteration: 8000. Loss: 1.5641404390335083. Accuracy: 45.61000061035156\n",
            "Iteration: 8000. Gradient Norm: 3.293251255291821\n",
            "Iteration: 8500. Loss: 1.4430240392684937. Accuracy: 45.59000015258789\n",
            "Iteration: 8500. Gradient Norm: 4.101059914035374\n",
            "Iteration: 9000. Loss: 1.5283520221710205. Accuracy: 47.029998779296875\n",
            "Iteration: 9000. Gradient Norm: 3.04780084336082\n",
            "Iteration: 9500. Loss: 1.3413949012756348. Accuracy: 47.5099983215332\n",
            "Iteration: 9500. Gradient Norm: 4.117399780688489\n",
            "Iteration: 10000. Loss: 1.4050792455673218. Accuracy: 47.0099983215332\n",
            "Iteration: 10000. Gradient Norm: 3.2111778232606363\n",
            "Iteration: 10500. Loss: 1.5956504344940186. Accuracy: 48.33000183105469\n",
            "Iteration: 10500. Gradient Norm: 2.9803707902822336\n",
            "Iteration: 11000. Loss: 1.5499885082244873. Accuracy: 46.880001068115234\n",
            "Iteration: 11000. Gradient Norm: 3.956258724027735\n",
            "Iteration: 11500. Loss: 1.3716691732406616. Accuracy: 48.7400016784668\n",
            "Iteration: 11500. Gradient Norm: 2.9842828661919842\n",
            "Iteration: 12000. Loss: 1.5099313259124756. Accuracy: 48.650001525878906\n",
            "Iteration: 12000. Gradient Norm: 3.9229005998001436\n",
            "Iteration: 12500. Loss: 1.5948072671890259. Accuracy: 48.54999923706055\n",
            "Iteration: 12500. Gradient Norm: 4.834819715916017\n",
            "Iteration: 13000. Loss: 1.3574856519699097. Accuracy: 48.560001373291016\n",
            "Iteration: 13000. Gradient Norm: 4.578233990401934\n",
            "Iteration: 13500. Loss: 1.4895793199539185. Accuracy: 48.2599983215332\n",
            "Iteration: 13500. Gradient Norm: 5.2025234964217955\n",
            "Iteration: 14000. Loss: 1.3550349473953247. Accuracy: 49.400001525878906\n",
            "Iteration: 14000. Gradient Norm: 4.861098909642384\n",
            "Iteration: 14500. Loss: 1.273458480834961. Accuracy: 50.43000030517578\n",
            "Iteration: 14500. Gradient Norm: 3.331430896235396\n",
            "Iteration: 15000. Loss: 1.2203603982925415. Accuracy: 50.119998931884766\n",
            "Iteration: 15000. Gradient Norm: 4.0299397182213434\n",
            "Iteration: 15500. Loss: 1.5285946130752563. Accuracy: 49.47999954223633\n",
            "Iteration: 15500. Gradient Norm: 6.287638534399368\n",
            "Iteration: 16000. Loss: 1.2837377786636353. Accuracy: 50.779998779296875\n",
            "Iteration: 16000. Gradient Norm: 4.730667655032239\n",
            "Iteration: 16500. Loss: 1.3351577520370483. Accuracy: 48.84000015258789\n",
            "Iteration: 16500. Gradient Norm: 7.38078432056995\n",
            "Iteration: 17000. Loss: 1.363938331604004. Accuracy: 51.029998779296875\n",
            "Iteration: 17000. Gradient Norm: 4.568492575236047\n",
            "Iteration: 17500. Loss: 1.2534115314483643. Accuracy: 50.84000015258789\n",
            "Iteration: 17500. Gradient Norm: 4.882040870861761\n",
            "Iteration: 18000. Loss: 1.4712629318237305. Accuracy: 47.779998779296875\n",
            "Iteration: 18000. Gradient Norm: 7.115331940848552\n",
            "Iteration: 18500. Loss: 1.3700206279754639. Accuracy: 51.720001220703125\n",
            "Iteration: 18500. Gradient Norm: 5.435399104581256\n",
            "Iteration: 19000. Loss: 1.251094102859497. Accuracy: 50.56999969482422\n",
            "Iteration: 19000. Gradient Norm: 5.587130343391925\n",
            "Iteration: 19500. Loss: 1.4208629131317139. Accuracy: 51.9900016784668\n",
            "Iteration: 19500. Gradient Norm: 6.196500626700737\n",
            "Iteration: 20000. Loss: 1.041603446006775. Accuracy: 51.97999954223633\n",
            "Iteration: 20000. Gradient Norm: 4.604207241306053\n",
            "Iteration: 20500. Loss: 1.2793296575546265. Accuracy: 52.09000015258789\n",
            "Iteration: 20500. Gradient Norm: 4.723145817996919\n",
            "Iteration: 21000. Loss: 1.3642460107803345. Accuracy: 52.5\n",
            "Iteration: 21000. Gradient Norm: 5.16888831279659\n",
            "Iteration: 21500. Loss: 1.0968902111053467. Accuracy: 51.119998931884766\n",
            "Iteration: 21500. Gradient Norm: 4.726035345566436\n",
            "Iteration: 22000. Loss: 1.182146668434143. Accuracy: 50.029998779296875\n",
            "Iteration: 22000. Gradient Norm: 5.920966394644481\n",
            "Iteration: 22500. Loss: 1.3240755796432495. Accuracy: 52.18000030517578\n",
            "Iteration: 22500. Gradient Norm: 5.640628002705091\n",
            "Iteration: 23000. Loss: 1.113355278968811. Accuracy: 52.95000076293945\n",
            "Iteration: 23000. Gradient Norm: 4.240280464476841\n",
            "Iteration: 23500. Loss: 1.2444939613342285. Accuracy: 50.380001068115234\n",
            "Iteration: 23500. Gradient Norm: 4.412254890531653\n",
            "Iteration: 24000. Loss: 1.0510953664779663. Accuracy: 51.84000015258789\n",
            "Iteration: 24000. Gradient Norm: 4.874790464019755\n",
            "Iteration: 24500. Loss: 1.0240044593811035. Accuracy: 52.93000030517578\n",
            "Iteration: 24500. Gradient Norm: 5.870630197104536\n",
            "Iteration: 25000. Loss: 1.274901270866394. Accuracy: 52.619998931884766\n",
            "Iteration: 25000. Gradient Norm: 5.596330141120667\n",
            "Iteration: 25500. Loss: 1.173973560333252. Accuracy: 53.189998626708984\n",
            "Iteration: 25500. Gradient Norm: 6.746992776817932\n",
            "Iteration: 26000. Loss: 1.1620622873306274. Accuracy: 53.79999923706055\n",
            "Iteration: 26000. Gradient Norm: 5.560343440501328\n",
            "Iteration: 26500. Loss: 1.1324928998947144. Accuracy: 53.630001068115234\n",
            "Iteration: 26500. Gradient Norm: 4.695833415831942\n",
            "Iteration: 27000. Loss: 1.3719258308410645. Accuracy: 53.880001068115234\n",
            "Iteration: 27000. Gradient Norm: 5.2063773627810015\n",
            "Iteration: 27500. Loss: 0.9701715111732483. Accuracy: 53.90999984741211\n",
            "Iteration: 27500. Gradient Norm: 4.20618632927497\n",
            "Iteration: 28000. Loss: 1.2147693634033203. Accuracy: 50.70000076293945\n",
            "Iteration: 28000. Gradient Norm: 6.396223640122864\n",
            "Iteration: 28500. Loss: 1.1392924785614014. Accuracy: 52.97999954223633\n",
            "Iteration: 28500. Gradient Norm: 5.065365744611784\n",
            "Iteration: 29000. Loss: 0.8123582601547241. Accuracy: 53.9900016784668\n",
            "Iteration: 29000. Gradient Norm: 3.8211696762499407\n",
            "Iteration: 29500. Loss: 1.1639554500579834. Accuracy: 52.31999969482422\n",
            "Iteration: 29500. Gradient Norm: 6.5234248667949135\n",
            "Iteration: 30000. Loss: 1.0598446130752563. Accuracy: 53.79999923706055\n",
            "Iteration: 30000. Gradient Norm: 5.085653569208973\n",
            "Iteration: 30500. Loss: 1.1661967039108276. Accuracy: 54.97999954223633\n",
            "Iteration: 30500. Gradient Norm: 5.239462151521973\n",
            "Iteration: 31000. Loss: 1.0342392921447754. Accuracy: 54.369998931884766\n",
            "Iteration: 31000. Gradient Norm: 5.01930507192418\n",
            "Iteration: 31500. Loss: 1.2010258436203003. Accuracy: 51.130001068115234\n",
            "Iteration: 31500. Gradient Norm: 9.108877279778769\n",
            "Iteration: 32000. Loss: 1.0524945259094238. Accuracy: 52.84000015258789\n",
            "Iteration: 32000. Gradient Norm: 5.272235627841209\n",
            "Iteration: 32500. Loss: 1.0403136014938354. Accuracy: 52.630001068115234\n",
            "Iteration: 32500. Gradient Norm: 5.93818233873133\n",
            "Iteration: 33000. Loss: 1.187170147895813. Accuracy: 53.720001220703125\n",
            "Iteration: 33000. Gradient Norm: 5.144864786940628\n",
            "Iteration: 33500. Loss: 0.9997970461845398. Accuracy: 54.040000915527344\n",
            "Iteration: 33500. Gradient Norm: 6.907924782159421\n",
            "Iteration: 34000. Loss: 1.1243617534637451. Accuracy: 54.68000030517578\n",
            "Iteration: 34000. Gradient Norm: 5.343685672675329\n",
            "Iteration: 34500. Loss: 1.0872291326522827. Accuracy: 54.43000030517578\n",
            "Iteration: 34500. Gradient Norm: 5.992401548050168\n",
            "Iteration: 35000. Loss: 0.897087574005127. Accuracy: 54.380001068115234\n",
            "Iteration: 35000. Gradient Norm: 5.774940452882864\n",
            "Iteration: 35500. Loss: 1.0177152156829834. Accuracy: 54.16999816894531\n",
            "Iteration: 35500. Gradient Norm: 5.837058260993143\n",
            "Iteration: 36000. Loss: 0.9492422342300415. Accuracy: 53.70000076293945\n",
            "Iteration: 36000. Gradient Norm: 6.620989707409201\n",
            "Iteration: 36500. Loss: 0.9446000456809998. Accuracy: 53.91999816894531\n",
            "Iteration: 36500. Gradient Norm: 5.061776772753987\n",
            "Iteration: 37000. Loss: 1.006075382232666. Accuracy: 53.290000915527344\n",
            "Iteration: 37000. Gradient Norm: 7.245905097418996\n",
            "Iteration: 37500. Loss: 0.8975581526756287. Accuracy: 54.20000076293945\n",
            "Iteration: 37500. Gradient Norm: 5.052217089340849\n",
            "Iteration: 38000. Loss: 1.0273057222366333. Accuracy: 52.56999969482422\n",
            "Iteration: 38000. Gradient Norm: 7.865697451907861\n",
            "Iteration: 38500. Loss: 0.9110608100891113. Accuracy: 54.560001373291016\n",
            "Iteration: 38500. Gradient Norm: 6.186962560205452\n",
            "Iteration: 39000. Loss: 1.0111534595489502. Accuracy: 54.27000045776367\n",
            "Iteration: 39000. Gradient Norm: 5.63436052508023\n",
            "Iteration: 39500. Loss: 0.8985694050788879. Accuracy: 52.36000061035156\n",
            "Iteration: 39500. Gradient Norm: 8.700213222067001\n",
            "Iteration: 40000. Loss: 0.9268351793289185. Accuracy: 52.95000076293945\n",
            "Iteration: 40000. Gradient Norm: 7.667524077836599\n",
            "Iteration: 40500. Loss: 0.8507707118988037. Accuracy: 54.22999954223633\n",
            "Iteration: 40500. Gradient Norm: 6.165990260820975\n",
            "Iteration: 41000. Loss: 0.9915356636047363. Accuracy: 54.59000015258789\n",
            "Iteration: 41000. Gradient Norm: 6.469534137676677\n",
            "Iteration: 41500. Loss: 0.8724174499511719. Accuracy: 53.43000030517578\n",
            "Iteration: 41500. Gradient Norm: 6.900236267529167\n",
            "Iteration: 42000. Loss: 1.1223093271255493. Accuracy: 54.650001525878906\n",
            "Iteration: 42000. Gradient Norm: 7.86586714427755\n",
            "Iteration: 42500. Loss: 0.955034077167511. Accuracy: 54.22999954223633\n",
            "Iteration: 42500. Gradient Norm: 7.222085816431291\n",
            "Iteration: 43000. Loss: 0.7683811187744141. Accuracy: 53.310001373291016\n",
            "Iteration: 43000. Gradient Norm: 7.196707754655507\n",
            "Iteration: 43500. Loss: 0.8475593328475952. Accuracy: 53.66999816894531\n",
            "Iteration: 43500. Gradient Norm: 6.817059175864355\n",
            "Iteration: 44000. Loss: 0.9724992513656616. Accuracy: 53.68000030517578\n",
            "Iteration: 44000. Gradient Norm: 8.172205065333987\n",
            "Iteration: 44500. Loss: 0.8976802229881287. Accuracy: 55.09000015258789\n",
            "Iteration: 44500. Gradient Norm: 6.2011524527759665\n",
            "Iteration: 45000. Loss: 1.011603832244873. Accuracy: 52.470001220703125\n",
            "Iteration: 45000. Gradient Norm: 7.761591145083559\n",
            "Iteration: 45500. Loss: 0.9495770931243896. Accuracy: 55.400001525878906\n",
            "Iteration: 45500. Gradient Norm: 4.994491753161111\n",
            "Iteration: 46000. Loss: 0.7739181518554688. Accuracy: 55.18000030517578\n",
            "Iteration: 46000. Gradient Norm: 6.145499385365296\n",
            "Iteration: 46500. Loss: 0.8781323432922363. Accuracy: 53.58000183105469\n",
            "Iteration: 46500. Gradient Norm: 6.010085997461262\n",
            "Iteration: 47000. Loss: 0.8474498987197876. Accuracy: 54.95000076293945\n",
            "Iteration: 47000. Gradient Norm: 5.222169957780307\n",
            "Iteration: 47500. Loss: 1.1799827814102173. Accuracy: 53.4900016784668\n",
            "Iteration: 47500. Gradient Norm: 9.646868496168327\n",
            "Iteration: 48000. Loss: 0.6375590562820435. Accuracy: 55.0099983215332\n",
            "Iteration: 48000. Gradient Norm: 6.837585235057634\n",
            "Iteration: 48500. Loss: 0.6629407405853271. Accuracy: 55.0\n",
            "Iteration: 48500. Gradient Norm: 5.56253147663375\n",
            "Iteration: 49000. Loss: 0.8157017230987549. Accuracy: 54.18000030517578\n",
            "Iteration: 49000. Gradient Norm: 7.071189052708003\n",
            "Iteration: 49500. Loss: 1.090571403503418. Accuracy: 48.439998626708984\n",
            "Iteration: 49500. Gradient Norm: 11.915120013975773\n",
            "Iteration: 50000. Loss: 0.6586192846298218. Accuracy: 54.34000015258789\n",
            "Iteration: 50000. Gradient Norm: 5.754908630887683\n"
          ],
          "name": "stdout"
        }
      ]
    },
    {
      "cell_type": "code",
      "metadata": {
        "id": "4-HTeItxxmAH",
        "colab": {
          "base_uri": "https://localhost:8080/",
          "height": 295
        },
        "outputId": "fdddb4cd-1517-42b3-9d4b-21dda8d5a4fa"
      },
      "source": [
        "# PLOT LOSS/ LEARNING CURVE\n",
        "plt.plot(historyEpoch,historyLoss)  \n",
        "plt.title(\"Learning curve\")\n",
        "plt.xlabel(\"Epoch\")\n",
        "plt.ylabel(\"Average Loss\")\n",
        "plt.grid(True)\n",
        "plt.show()"
      ],
      "execution_count": null,
      "outputs": [
        {
          "output_type": "display_data",
          "data": {
            "image/png": "[encoded data removed]",
            "text/plain": [
              "<Figure size 432x288 with 1 Axes>"
            ]
          },
          "metadata": {
            "tags": [],
            "needs_background": "light"
          }
        }
      ]
    },
    {
      "cell_type": "code",
      "metadata": {
        "id": "4c6QixFbxmF2",
        "colab": {
          "base_uri": "https://localhost:8080/",
          "height": 295
        },
        "outputId": "fbcf2905-8878-409d-e445-65ed2d8f01ad"
      },
      "source": [
        "# PLOT GRADIENT NORM VS EPOCHS\n",
        "\n",
        "plt.plot(historyEpoch,gradientNorm)  \n",
        "plt.title(\"Gradient Norm vs Epochs\")\n",
        "plt.xlabel(\"Epoch\")\n",
        "plt.ylabel(\"Gradient Norm\")\n",
        "plt.grid(True)\n",
        "plt.show()"
      ],
      "execution_count": null,
      "outputs": [
        {
          "output_type": "display_data",
          "data": {
            "image/png": "[encoded data removed]",
            "text/plain": [
              "<Figure size 432x288 with 1 Axes>"
            ]
          },
          "metadata": {
            "tags": [],
            "needs_background": "light"
          }
        }
      ]
    },
    {
      "cell_type": "code",
      "metadata": {
        "id": "Bus8M5xDBuRB"
      },
      "source": [
        "####################### CONFUSION MATRIX CALCULATION #####################################"
      ],
      "execution_count": null,
      "outputs": []
    },
    {
      "cell_type": "code",
      "metadata": {
        "id": "EHpO-yrlyKw8"
      },
      "source": [
        "@torch.no_grad()\n",
        "def get_all_preds(model, loader):\n",
        "    all_preds = torch.tensor([])\n",
        "    all_preds = all_preds.to(avDev)\n",
        "    for images,labels in loader:\n",
        "        images = images.view(-1, 32*32*3).to(avDev)\n",
        "        labels = labels.to(avDev)\n",
        "        preds = model(images)\n",
        "        all_preds = torch.cat(\n",
        "            (all_preds, preds)\n",
        "            ,dim=0\n",
        "        )\n",
        "    return all_preds"
      ],
      "execution_count": null,
      "outputs": []
    },
    {
      "cell_type": "markdown",
      "metadata": {
        "id": "uldRon0d0V_g"
      },
      "source": [
        ""
      ]
    },
    {
      "cell_type": "code",
      "metadata": {
        "id": "_LS7fEpiGZLz"
      },
      "source": [
        "with torch.no_grad():\n",
        "    prediction_loader = torch.utils.data.DataLoader(dataset=trainset, \n",
        "                                     \n",
        "                                          shuffle=False)\n",
        "    train_preds = get_all_preds(model, prediction_loader)"
      ],
      "execution_count": null,
      "outputs": []
    },
    {
      "cell_type": "code",
      "metadata": {
        "id": "-Ol8mJ1d8jmZ"
      },
      "source": [
        "trainset_targets = torch.IntTensor(trainset.targets)\n",
        "trainset_targets = trainset_targets.to(avDev)\n",
        "\n",
        "stacked = torch.stack(\n",
        "    (\n",
        "        trainset_targets\n",
        "        ,train_preds.argmax(dim=1)\n",
        "    )\n",
        "    ,dim=1\n",
        ")"
      ],
      "execution_count": null,
      "outputs": []
    },
    {
      "cell_type": "code",
      "metadata": {
        "id": "k3SaTNSo_n5V"
      },
      "source": [
        "cmt = torch.zeros(10,10, dtype=torch.int64)"
      ],
      "execution_count": null,
      "outputs": []
    },
    {
      "cell_type": "code",
      "metadata": {
        "id": "e4jpYntMAlBC"
      },
      "source": [
        "for p in stacked:\n",
        "    tl, pl = p.tolist()\n",
        "    cmt[tl, pl] = cmt[tl, pl] + 1"
      ],
      "execution_count": null,
      "outputs": []
    },
    {
      "cell_type": "code",
      "metadata": {
        "colab": {
          "base_uri": "https://localhost:8080/"
        },
        "id": "_mwRc352AlDU",
        "outputId": "d10f8a6e-8b30-4463-f797-938967978482"
      },
      "source": [
        "print(cmt)  # PRINT CONFUSION MATRIX"
      ],
      "execution_count": null,
      "outputs": [
        {
          "output_type": "execute_result",
          "data": {
            "text/plain": [
              "tensor([[3314,  163,  123,   91,   82,   15,   37,   42,  682,  451],\n",
              "        [  31, 4042,    1,   14,    3,    0,    8,    8,  159,  734],\n",
              "        [ 255,   48, 2870,  413,  520,   84,  313,  113,  149,  235],\n",
              "        [  77,   57,  228, 3420,  105,  216,  326,   77,  156,  338],\n",
              "        [ 161,   41,  375,  342, 3175,   48,  252,  197,  214,  195],\n",
              "        [  37,   43,  258, 1594,  172, 2129,  199,  170,  101,  297],\n",
              "        [  26,   44,  161,  364,  189,   27, 3969,   23,   77,  120],\n",
              "        [  62,   42,   97,  210,  164,   65,   42, 3884,   78,  356],\n",
              "        [ 132,  125,   17,   35,   33,    2,   14,    3, 4380,  259],\n",
              "        [  31,  135,    3,   30,   12,    7,   11,   12,  112, 4647]])"
            ]
          },
          "metadata": {
            "tags": []
          },
          "execution_count": 204
        }
      ]
    },
    {
      "cell_type": "code",
      "metadata": {
        "id": "vzYlMOxqAlFZ"
      },
      "source": [
        ""
      ],
      "execution_count": null,
      "outputs": []
    },
    {
      "cell_type": "code",
      "metadata": {
        "id": "vjakXHqj-2mg"
      },
      "source": [
        "# WE TRIED MULTIPLE ITERATIONS FOR THE FOLLOWING HYPERPARAMETERS AND GOT THE FOLLOWING BEST VALUES:\n",
        "\n",
        "# 1. Number of Hidden Layers : 2\n",
        "# 2. Number of Hidden Neurons : Layer 1: 512 , Layer 2: 128\n",
        "# 3. Learning Rate : 0.01\n",
        "# 4. Weight Decay : weight_decay = 1e-5\n",
        "# 5. Number of Epochs : 100 (num_epochs = i / (len(trainset) / batch_size))\n",
        "# 6. Batch Size : 100"
      ],
      "execution_count": null,
      "outputs": []
    },
    {
      "cell_type": "code",
      "metadata": {
        "id": "-49RPD7p_gNV"
      },
      "source": [
        ""
      ],
      "execution_count": 1,
      "outputs": []
    },
    {
      "cell_type": "code",
      "metadata": {
        "id": "4wz3zqOU_uRA"
      },
      "source": [
        ""
      ],
      "execution_count": null,
      "outputs": []
    }
  ]
}